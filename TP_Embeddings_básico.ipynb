{
  "nbformat": 4,
  "nbformat_minor": 0,
  "metadata": {
    "colab": {
      "provenance": [],
      "toc_visible": true,
      "authorship_tag": "ABX9TyNkRFbNkCSBr+JSytaYRtXA",
      "include_colab_link": true
    },
    "kernelspec": {
      "name": "python3",
      "display_name": "Python 3"
    },
    "language_info": {
      "name": "python"
    }
  },
  "cells": [
    {
      "cell_type": "markdown",
      "metadata": {
        "id": "view-in-github",
        "colab_type": "text"
      },
      "source": [
        "<a href=\"https://colab.research.google.com/github/FranBasili/RN2-TP1-Embeddings/blob/main/TP_Embeddings_b%C3%A1sico.ipynb\" target=\"_parent\"><img src=\"https://colab.research.google.com/assets/colab-badge.svg\" alt=\"Open In Colab\"/></a>"
      ]
    },
    {
      "cell_type": "markdown",
      "source": [
        "#Objetivo\n",
        "\n",
        "El objetivo de las actividades propuestas es desarrollar intuición sobre la estructura semántica subyacente en embeddings de documentos y palabras básicos generados a partir de conteos y hacer un análisis exploratorio de forma cualitativa. Para ello se trabajará con el dataset 20 Newsgroups (disponible a través de sklearn) y diferentes formas de construir embeddings de documentos y de palabras:"
      ],
      "metadata": {
        "id": "Nef5kUSI2h29"
      }
    },
    {
      "cell_type": "code",
      "source": [
        "from sklearn.datasets import fetch_20newsgroups\n",
        "from sklearn.feature_extraction.text import CountVectorizer, TfidfVectorizer\n",
        "from sklearn.decomposition import TruncatedSVD\n",
        "import numpy as np\n",
        "import matplotlib.pyplot as plt\n",
        "\n",
        "\n",
        "newsgroups = fetch_20newsgroups(subset='train', remove=('headers', 'footers', 'quotes'))"
      ],
      "metadata": {
        "id": "QfJzG87tO7D1"
      },
      "execution_count": null,
      "outputs": []
    },
    {
      "cell_type": "markdown",
      "source": [
        "# Funciones auxiliares"
      ],
      "metadata": {
        "id": "inEuL-uP_fsX"
      }
    },
    {
      "cell_type": "code",
      "source": [
        "sample_idx=101 #dejar igual al valor por defecto de printNeighbours\n",
        "\n",
        "def printNeighbours(newsgroups, cos_dist, sample_idx=101):\n",
        "  nearest_idx = np.array(cos_dist).flatten().argsort()[::-1]\n",
        "\n",
        "  print(\"Sample idx:\", sample_idx)\n",
        "  print(\"Sample cat:\", newsgroups.target_names[newsgroups.target[sample_idx]])\n",
        "  print(\"\\n Neighbours:\")\n",
        "\n",
        "  for idx in nearest_idx[1:10]:\n",
        "      print(\"- idx:\", idx,\n",
        "            \"\\t cat:\", newsgroups.target_names[newsgroups.target[idx]],\n",
        "            \"\\t sim:\", cos_dist[idx])"
      ],
      "metadata": {
        "id": "FcSAqv5s_gEi"
      },
      "execution_count": null,
      "outputs": []
    },
    {
      "cell_type": "code",
      "source": [
        "def printNeighKeras(word_samples, neigh, cv, words_count):\n",
        "  for word in word_samples:\n",
        "    idx = cv.vocabulary_[word]\n",
        "    _, neig = neigh.kneighbors(words_count[idx,:].reshape(1, -1))\n",
        "    aux = cv.get_feature_names_out()\n",
        "    print(\"Sample:\", word)\n",
        "    print(aux[neig[0]])"
      ],
      "metadata": {
        "id": "KWFgPuxh_jHe"
      },
      "execution_count": null,
      "outputs": []
    },
    {
      "cell_type": "code",
      "source": [
        "def genWordWordMatrix(seqs, voc_size, win_size=5):\n",
        "\n",
        "  # Generamos los skipgrams\n",
        "  pairs, _= skipgrams(sequence=list(seqs), vocabulary_size=voc_size+1,\n",
        "                            window_size=win_size, negative_samples=0,\n",
        "                            sampling_table=make_sampling_table(voc_size+1,\n",
        "                                                               sampling_factor=1),\n",
        "                            shuffle=False)\n",
        "\n",
        "  # Contamos los skipgrams\n",
        "  pairs_u, counts = np.unique(pairs,return_counts=True, axis=0)\n",
        "\n",
        "  # Armamos las tablas con los skipgrams\n",
        "  word_word_matrix=lil_matrix((N, N))\n",
        "  for _, (pair,count) in enumerate(zip(pairs_u, counts)):\n",
        "    word_word_matrix[pair[0],pair[1]] += count\n",
        "\n",
        "  return word_word_matrix"
      ],
      "metadata": {
        "id": "_-sT2AcZeVdC"
      },
      "execution_count": null,
      "outputs": []
    },
    {
      "cell_type": "markdown",
      "source": [
        "#Ejercicio 1"
      ],
      "metadata": {
        "id": "onN4pQx_2nZT"
      }
    },
    {
      "cell_type": "markdown",
      "source": [
        "Usar las vectorizaciones disponibles en sklearn de CountVectorizer y TfidfVectorizer para construir la matriz de documento-término. Esto proveerá de embeddings para cada documento. Con esta vectorización explorar similaridad entre documentos (tomar algún documento y evaluar los documentos correspondientes con mayor similaridad), dado que el dataset provee también clasificación anotada en tópicos se aprovechar esta clasificación como elemento extra para comprobar la similaridad de documentos. Explorar vectorizar con diferentes cantidades de n-gramas. Toda exploración adicional a las mencionadas es bienvenida."
      ],
      "metadata": {
        "id": "Uuhpoyzh2mpV"
      }
    },
    {
      "cell_type": "markdown",
      "source": [
        "## EDA"
      ],
      "metadata": {
        "id": "tQTGqp2Q2qMm"
      }
    },
    {
      "cell_type": "code",
      "source": [
        "newsgroups.data[0]"
      ],
      "metadata": {
        "colab": {
          "base_uri": "https://localhost:8080/",
          "height": 87
        },
        "id": "KKxWLyYv4x6h",
        "outputId": "ebf745ac-6353-4541-b528-dbd97bc84436"
      },
      "execution_count": null,
      "outputs": [
        {
          "output_type": "execute_result",
          "data": {
            "text/plain": [
              "'I was wondering if anyone out there could enlighten me on this car I saw\\nthe other day. It was a 2-door sports car, looked to be from the late 60s/\\nearly 70s. It was called a Bricklin. The doors were really small. In addition,\\nthe front bumper was separate from the rest of the body. This is \\nall I know. If anyone can tellme a model name, engine specs, years\\nof production, where this car is made, history, or whatever info you\\nhave on this funky looking car, please e-mail.'"
            ],
            "application/vnd.google.colaboratory.intrinsic+json": {
              "type": "string"
            }
          },
          "metadata": {},
          "execution_count": 84
        }
      ]
    },
    {
      "cell_type": "code",
      "source": [
        "print(\"Articulos totales:\", len(newsgroups.data))"
      ],
      "metadata": {
        "colab": {
          "base_uri": "https://localhost:8080/"
        },
        "id": "t8xI8ACwK6AJ",
        "outputId": "ca5abe70-71b0-4302-edae-aff6ee03f65c"
      },
      "execution_count": null,
      "outputs": [
        {
          "output_type": "stream",
          "name": "stdout",
          "text": [
            "Articulos totales: 11314\n"
          ]
        }
      ]
    },
    {
      "cell_type": "code",
      "source": [
        "words_count=[len(newsgroups.data[article]) for article in range(len(newsgroups.data))]\n",
        "print(\"Cant palabras totales:\", np.sum(np.array(words_count)))"
      ],
      "metadata": {
        "colab": {
          "base_uri": "https://localhost:8080/"
        },
        "id": "21A4ynFGR0D-",
        "outputId": "e08da3dc-aaeb-47ec-81ff-d434e2746382"
      },
      "execution_count": null,
      "outputs": [
        {
          "output_type": "stream",
          "name": "stdout",
          "text": [
            "Cant palabras totales: 13781985\n"
          ]
        }
      ]
    },
    {
      "cell_type": "code",
      "source": [
        "count=[np.count_nonzero(newsgroups.target==value) for value in range(20)]\n",
        "plt.bar(range(20), count)\n",
        "plt.xticks(range(20), newsgroups.target_names, rotation=75)\n",
        "plt.title('20 News Group Trainset')"
      ],
      "metadata": {
        "colab": {
          "base_uri": "https://localhost:8080/",
          "height": 639
        },
        "id": "CouNvRVjLU5z",
        "outputId": "7eab15d2-e505-4f66-b304-c7c9d61b24d1"
      },
      "execution_count": null,
      "outputs": [
        {
          "output_type": "execute_result",
          "data": {
            "text/plain": [
              "Text(0.5, 1.0, '20 News Group Trainset')"
            ]
          },
          "metadata": {},
          "execution_count": 87
        },
        {
          "output_type": "display_data",
          "data": {
            "text/plain": [
              "<Figure size 640x480 with 1 Axes>"
            ],
            "image/png": "[encoded data removed]"
          },
          "metadata": {}
        }
      ]
    },
    {
      "cell_type": "code",
      "source": [
        "count_vectorizer = CountVectorizer(ngram_range=(1,1), max_df=1.0, min_df=100, stop_words=\"english\")\n",
        "TNG_cv = count_vectorizer.fit_transform(newsgroups.data)\n",
        "\n",
        "print(\"Cant Palabras del diccionario:\", len(count_vectorizer.get_feature_names_out()))\n",
        "print(\"Palabras del diccionario\")\n",
        "count_vectorizer.get_feature_names_out()"
      ],
      "metadata": {
        "colab": {
          "base_uri": "https://localhost:8080/"
        },
        "id": "1X6q38KQLK3t",
        "outputId": "a00aef61-3455-4c8e-e314-285bf2fd8ae9"
      },
      "execution_count": null,
      "outputs": [
        {
          "output_type": "stream",
          "name": "stdout",
          "text": [
            "Cant Palabras del diccionario: 1336\n",
            "Palabras del diccionario\n"
          ]
        },
        {
          "output_type": "execute_result",
          "data": {
            "text/plain": [
              "array(['00', '000', '10', ..., 'yes', 'york', 'young'], dtype=object)"
            ]
          },
          "metadata": {},
          "execution_count": 88
        }
      ]
    },
    {
      "cell_type": "code",
      "source": [
        "count_vectorizer.vocabulary_"
      ],
      "metadata": {
        "colab": {
          "base_uri": "https://localhost:8080/"
        },
        "id": "ta6OP54bW67L",
        "outputId": "dfcc4caf-46b4-4369-f116-f97a5ddf95b7"
      },
      "execution_count": null,
      "outputs": [
        {
          "output_type": "execute_result",
          "data": {
            "text/plain": [
              "{'wondering': 1312,\n",
              " 'car': 207,\n",
              " 'saw': 1049,\n",
              " 'day': 331,\n",
              " 'door': 387,\n",
              " 'looked': 703,\n",
              " 'late': 665,\n",
              " 'early': 401,\n",
              " 'called': 201,\n",
              " 'really': 979,\n",
              " 'small': 1106,\n",
              " 'addition': 78,\n",
              " 'separate': 1074,\n",
              " 'rest': 1024,\n",
              " 'body': 178,\n",
              " 'know': 654,\n",
              " 'model': 772,\n",
              " 'engine': 419,\n",
              " 'years': 1332,\n",
              " 'history': 578,\n",
              " 'info': 611,\n",
              " 'looking': 704,\n",
              " 'mail': 720,\n",
              " 'fair': 459,\n",
              " 'number': 823,\n",
              " 'clock': 257,\n",
              " 'send': 1071,\n",
              " 'message': 754,\n",
              " 'speed': 1130,\n",
              " 'add': 76,\n",
              " 'cards': 209,\n",
              " 'floppy': 489,\n",
              " 'disk': 376,\n",
              " '800': 55,\n",
              " 'especially': 427,\n",
              " 'days': 332,\n",
              " 'network': 807,\n",
              " 'knowledge': 656,\n",
              " 'base': 152,\n",
              " 'haven': 559,\n",
              " 'thanks': 1204,\n",
              " 'folks': 490,\n",
              " 'mac': 716,\n",
              " 'plus': 890,\n",
              " 'finally': 483,\n",
              " 'gave': 515,\n",
              " 'starting': 1139,\n",
              " 'life': 681,\n",
              " 'way': 1290,\n",
              " 'market': 734,\n",
              " 'new': 808,\n",
              " 'machine': 717,\n",
              " 'bit': 170,\n",
              " 'intended': 619,\n",
              " 'maybe': 738,\n",
              " 'bunch': 193,\n",
              " 'questions': 960,\n",
              " 'somebody': 1113,\n",
              " 'answer': 104,\n",
              " 'does': 383,\n",
              " 'anybody': 107,\n",
              " 'round': 1037,\n",
              " 'expected': 448,\n",
              " 'heard': 564,\n",
              " 'supposed': 1176,\n",
              " 'make': 725,\n",
              " 'summer': 1169,\n",
              " 'don': 386,\n",
              " 'access': 65,\n",
              " 'price': 922,\n",
              " 'line': 687,\n",
              " 'like': 683,\n",
              " 'ones': 838,\n",
              " 'just': 641,\n",
              " 'went': 1297,\n",
              " 'recently': 987,\n",
              " 'display': 378,\n",
              " 'probably': 928,\n",
              " 'got': 531,\n",
              " 'feel': 476,\n",
              " 'better': 166,\n",
              " 'looks': 705,\n",
              " 'great': 536,\n",
              " 'store': 1153,\n",
              " 'good': 529,\n",
              " 'opinions': 842,\n",
              " 'people': 868,\n",
              " 'use': 1257,\n",
              " 'worth': 1322,\n",
              " 'taking': 1185,\n",
              " 'size': 1103,\n",
              " 'money': 777,\n",
              " 'hit': 579,\n",
              " 'realize': 978,\n",
              " 'real': 976,\n",
              " 'question': 959,\n",
              " 've': 1270,\n",
              " 'played': 886,\n",
              " 'machines': 718,\n",
              " 'computer': 284,\n",
              " 'actually': 74,\n",
              " 'uses': 1262,\n",
              " 'prove': 946,\n",
              " 'helpful': 571,\n",
              " 'advance': 83,\n",
              " 'email': 416,\n",
              " 'll': 696,\n",
              " 'post': 906,\n",
              " 'summary': 1168,\n",
              " 'news': 809,\n",
              " 'reading': 974,\n",
              " 'time': 1214,\n",
              " 'tom': 1219,\n",
              " 'edu': 409,\n",
              " 'engineering': 420,\n",
              " 'address': 80,\n",
              " 'phone': 876,\n",
              " 'information': 612,\n",
              " 'chip': 237,\n",
              " 'article': 130,\n",
              " 'world': 1319,\n",
              " 'com': 264,\n",
              " 'understanding': 1249,\n",
              " 'errors': 426,\n",
              " 'basically': 156,\n",
              " 'known': 657,\n",
              " 'software': 1110,\n",
              " 'things': 1207,\n",
              " 'right': 1029,\n",
              " 'values': 1268,\n",
              " 'aren': 124,\n",
              " 'set': 1081,\n",
              " 'fix': 486,\n",
              " 'code': 259,\n",
              " 'possibly': 905,\n",
              " 'tell': 1194,\n",
              " 'ok': 834,\n",
              " 'course': 313,\n",
              " 'term': 1198,\n",
              " 'doubt': 390,\n",
              " 'using': 1263,\n",
              " 'quote': 964,\n",
              " 'read': 973,\n",
              " 'argument': 126,\n",
              " 'weapons': 1292,\n",
              " 'mass': 735,\n",
              " 'point': 891,\n",
              " 'allowed': 95,\n",
              " 'later': 666,\n",
              " 'analysis': 102,\n",
              " 'given': 521,\n",
              " 'consider': 292,\n",
              " 'class': 252,\n",
              " 'request': 1013,\n",
              " 'treatment': 1231,\n",
              " 'couldn': 308,\n",
              " 'thank': 1203,\n",
              " 'directly': 372,\n",
              " 'thought': 1210,\n",
              " 'sure': 1177,\n",
              " 'instead': 617,\n",
              " 'trying': 1239,\n",
              " 'file': 480,\n",
              " 'shows': 1092,\n",
              " 'scsi': 1058,\n",
              " 'range': 970,\n",
              " 'controller': 300,\n",
              " 'note': 818,\n",
              " 'increase': 607,\n",
              " 'version': 1272,\n",
              " 'exist': 443,\n",
              " 'pc': 866,\n",
              " 'mode': 771,\n",
              " '16': 10,\n",
              " 'wide': 1301,\n",
              " 'fast': 468,\n",
              " '32': 35,\n",
              " '15': 8,\n",
              " 'data': 327,\n",
              " 'twice': 1243,\n",
              " 'correct': 304,\n",
              " 'reach': 972,\n",
              " '20': 18,\n",
              " 'faster': 469,\n",
              " 'ide': 592,\n",
              " 'facts': 457,\n",
              " 'posted': 907,\n",
              " 'newsgroup': 810,\n",
              " 'ibm': 590,\n",
              " 'available': 144,\n",
              " 'ftp': 506,\n",
              " '44': 46,\n",
              " 'report': 1010,\n",
              " 'compare': 279,\n",
              " 'problem': 929,\n",
              " 'apple': 111,\n",
              " 'said': 1045,\n",
              " 'interface': 622,\n",
              " 'think': 1208,\n",
              " 'true': 1234,\n",
              " 'win': 1304,\n",
              " 'figure': 479,\n",
              " 'change': 225,\n",
              " 'help': 570,\n",
              " 'appreciated': 116,\n",
              " 'board': 176,\n",
              " 'year': 1331,\n",
              " 'work': 1315,\n",
              " 'owners': 852,\n",
              " 'technology': 1193,\n",
              " 'writing': 1326,\n",
              " 'memory': 749,\n",
              " 'lost': 709,\n",
              " 'reference': 991,\n",
              " 'wrong': 1328,\n",
              " 'problems': 930,\n",
              " 'hard': 556,\n",
              " 'say': 1050,\n",
              " 'usually': 1265,\n",
              " 'mentioned': 752,\n",
              " 'unless': 1255,\n",
              " 'installed': 615,\n",
              " 'product': 933,\n",
              " 'related': 996,\n",
              " 'fixed': 487,\n",
              " 'makes': 726,\n",
              " 'buy': 196,\n",
              " 'hey': 573,\n",
              " 'runs': 1042,\n",
              " 'sold': 1111,\n",
              " 'bike': 169,\n",
              " 'want': 1282,\n",
              " 'thinking': 1209,\n",
              " 'nice': 812,\n",
              " 'org': 846,\n",
              " 'pretty': 919,\n",
              " 'understand': 1248,\n",
              " 'jewish': 635,\n",
              " 'jews': 636,\n",
              " 'believe': 162,\n",
              " 'case': 213,\n",
              " 'moral': 781,\n",
              " 'follow': 491,\n",
              " 'decide': 339,\n",
              " 'fall': 462,\n",
              " 'believed': 163,\n",
              " 'required': 1015,\n",
              " 'modern': 775,\n",
              " 'lead': 670,\n",
              " 'man': 728,\n",
              " 'christian': 242,\n",
              " 'necessarily': 801,\n",
              " 'outside': 851,\n",
              " 'trouble': 1233,\n",
              " 'created': 318,\n",
              " 'image': 597,\n",
              " 'means': 742,\n",
              " 'different': 367,\n",
              " 'come': 265,\n",
              " 'conclusion': 287,\n",
              " 'wants': 1284,\n",
              " 'living': 695,\n",
              " 'christ': 241,\n",
              " 'example': 439,\n",
              " 'little': 691,\n",
              " 'jesus': 634,\n",
              " 'person': 872,\n",
              " 'references': 992,\n",
              " 'aside': 132,\n",
              " 'second': 1061,\n",
              " 'hand': 549,\n",
              " 'worse': 1321,\n",
              " 'attempt': 139,\n",
              " 'christianity': 243,\n",
              " 'bible': 167,\n",
              " 'guess': 542,\n",
              " 'faith': 461,\n",
              " 'comes': 266,\n",
              " 'multiple': 792,\n",
              " 'child': 235,\n",
              " 'assume': 136,\n",
              " 'simply': 1098,\n",
              " 'told': 1218,\n",
              " 'pub': 951,\n",
              " 'children': 236,\n",
              " 'quite': 963,\n",
              " 'happy': 555,\n",
              " 'hold': 581,\n",
              " 'water': 1289,\n",
              " 'knows': 658,\n",
              " 'type': 1244,\n",
              " 'young': 1335,\n",
              " 'gets': 519,\n",
              " 'older': 837,\n",
              " 'david': 330,\n",
              " 'religion': 1001,\n",
              " 'description': 351,\n",
              " 'external': 452,\n",
              " 'option': 843,\n",
              " 'deleted': 346,\n",
              " 'let': 677,\n",
              " 'options': 844,\n",
              " 'list': 689,\n",
              " 'today': 1217,\n",
              " '23': 22,\n",
              " 'york': 1334,\n",
              " 'times': 1215,\n",
              " 'reports': 1012,\n",
              " 'used': 1258,\n",
              " 'space': 1124,\n",
              " 'building': 191,\n",
              " 'station': 1145,\n",
              " 'existing': 445,\n",
              " 'currently': 324,\n",
              " 'considered': 293,\n",
              " 'reported': 1011,\n",
              " 'low': 713,\n",
              " 'cost': 306,\n",
              " 'approach': 117,\n",
              " 'team': 1190,\n",
              " 'teams': 1191,\n",
              " 'city': 247,\n",
              " 'site': 1100,\n",
              " 'key': 645,\n",
              " 'features': 474,\n",
              " 'bus': 194,\n",
              " 'developed': 358,\n",
              " 'provides': 949,\n",
              " 'communications': 274,\n",
              " 'management': 729,\n",
              " 'air': 91,\n",
              " 'force': 496,\n",
              " 'power': 911,\n",
              " 'provide': 947,\n",
              " 'vehicle': 1271,\n",
              " 'environment': 423,\n",
              " 'source': 1121,\n",
              " '30': 32,\n",
              " 'human': 589,\n",
              " 'old': 836,\n",
              " 'common': 273,\n",
              " 'added': 77,\n",
              " 'international': 624,\n",
              " 'place': 882,\n",
              " '60': 51,\n",
              " '3rd': 41,\n",
              " 'return': 1027,\n",
              " 'freedom': 503,\n",
              " 'based': 154,\n",
              " 'mike': 760,\n",
              " 'design': 352,\n",
              " 'love': 712,\n",
              " 'build': 190,\n",
              " 'research': 1017,\n",
              " 'non': 814,\n",
              " 'language': 662,\n",
              " '10': 2,\n",
              " 'keeping': 643,\n",
              " 'supply': 1171,\n",
              " '14': 7,\n",
              " '2nd': 31,\n",
              " 'control': 299,\n",
              " '24': 23,\n",
              " 'systems': 1181,\n",
              " 'major': 723,\n",
              " 'changes': 227,\n",
              " 'prices': 923,\n",
              " 'moving': 788,\n",
              " 'moved': 787,\n",
              " 'offer': 829,\n",
              " 'black': 172,\n",
              " '12': 5,\n",
              " 'player': 887,\n",
              " 'graphics': 535,\n",
              " 'high': 575,\n",
              " 'tape': 1188,\n",
              " 'sound': 1119,\n",
              " '80': 54,\n",
              " '25': 24,\n",
              " 'includes': 605,\n",
              " '50': 49,\n",
              " 'head': 561,\n",
              " 'ask': 133,\n",
              " 'brand': 185,\n",
              " 'extra': 453,\n",
              " 'contact': 295,\n",
              " 'reply': 1009,\n",
              " 'included': 604,\n",
              " 'reasonable': 981,\n",
              " 'look': 702,\n",
              " 'happened': 553,\n",
              " 'citizens': 246,\n",
              " 'war': 1285,\n",
              " 'ii': 595,\n",
              " 'stick': 1150,\n",
              " 'short': 1087,\n",
              " 'step': 1148,\n",
              " 'final': 482,\n",
              " 'solution': 1112,\n",
              " 'run': 1040,\n",
              " 'caused': 216,\n",
              " 'total': 1224,\n",
              " 'generally': 517,\n",
              " 'died': 365,\n",
              " 'certainly': 223,\n",
              " 'works': 1318,\n",
              " 'led': 674,\n",
              " 'programs': 937,\n",
              " 'poor': 897,\n",
              " 'making': 727,\n",
              " 'files': 481,\n",
              " 'load': 697,\n",
              " 'images': 598,\n",
              " 'save': 1048,\n",
              " 'general': 516,\n",
              " 'despite': 354,\n",
              " 'fact': 456,\n",
              " 'saying': 1051,\n",
              " 'goes': 526,\n",
              " 'format': 500,\n",
              " 'words': 1314,\n",
              " 'page': 854,\n",
              " 'sort': 1118,\n",
              " 'designed': 353,\n",
              " 'takes': 1184,\n",
              " 'effort': 414,\n",
              " 'handle': 550,\n",
              " 'application': 112,\n",
              " 'complete': 282,\n",
              " 'job': 638,\n",
              " 'able': 60,\n",
              " 'applications': 113,\n",
              " 'program': 935,\n",
              " 'won': 1310,\n",
              " 'deal': 335,\n",
              " 'asking': 135,\n",
              " 'kind': 651,\n",
              " 'single': 1099,\n",
              " 'drivers': 395,\n",
              " 'performance': 870,\n",
              " 'cars': 212,\n",
              " 'replies': 1008,\n",
              " 'received': 985,\n",
              " '27': 28,\n",
              " 'close': 258,\n",
              " '1992': 16,\n",
              " 'house': 586,\n",
              " 'taken': 1183,\n",
              " 'driving': 397,\n",
              " 'security': 1065,\n",
              " '500': 50,\n",
              " 'state': 1140,\n",
              " 'additional': 79,\n",
              " '100': 3,\n",
              " '000': 1,\n",
              " 'policy': 895,\n",
              " 'standard': 1135,\n",
              " '300': 33,\n",
              " 'bought': 183,\n",
              " 'company': 278,\n",
              " '11': 4,\n",
              " 'hope': 583,\n",
              " 'helps': 572,\n",
              " 'steve': 1149,\n",
              " 'university': 1253,\n",
              " '45': 47,\n",
              " 'correctly': 305,\n",
              " 'asked': 134,\n",
              " 'similar': 1096,\n",
              " 'situation': 1102,\n",
              " 'age': 86,\n",
              " 'record': 989,\n",
              " 'turn': 1240,\n",
              " 'higher': 576,\n",
              " 'rate': 971,\n",
              " 'couple': 312,\n",
              " 'friends': 505,\n",
              " 'pay': 865,\n",
              " 'companies': 277,\n",
              " 'group': 540,\n",
              " 'usa': 1256,\n",
              " 'cc': 218,\n",
              " 'live': 692,\n",
              " 'drive': 393,\n",
              " 'claim': 249,\n",
              " 'stop': 1151,\n",
              " '18': 12,\n",
              " 'months': 780,\n",
              " 'going': 527,\n",
              " 'clear': 253,\n",
              " 'light': 682,\n",
              " '35': 38,\n",
              " 'didn': 363,\n",
              " '92': 57,\n",
              " 'james': 633,\n",
              " 'law': 668,\n",
              " 'center': 220,\n",
              " 'play': 885,\n",
              " 'calls': 203,\n",
              " 'hell': 568,\n",
              " 'thing': 1206,\n",
              " 'killing': 650,\n",
              " 'away': 148,\n",
              " 'experience': 450,\n",
              " 'ago': 88,\n",
              " 'interesting': 621,\n",
              " 'decided': 340,\n",
              " 'personal': 873,\n",
              " 'ready': 975,\n",
              " 'buying': 197,\n",
              " 'office': 831,\n",
              " 'happen': 552,\n",
              " 'lower': 714,\n",
              " 'risk': 1031,\n",
              " 'division': 380,\n",
              " 'continue': 298,\n",
              " 'account': 67,\n",
              " 'double': 389,\n",
              " 'story': 1154,\n",
              " 'cover': 315,\n",
              " 'sense': 1072,\n",
              " 'book': 179,\n",
              " 'says': 1052,\n",
              " 'reason': 980,\n",
              " 'eventually': 433,\n",
              " 'reasons': 982,\n",
              " 'dealer': 336,\n",
              " 'interested': 620,\n",
              " 'pressure': 918,\n",
              " 'guy': 546,\n",
              " 'room': 1036,\n",
              " 'longer': 701,\n",
              " 'opinion': 841,\n",
              " 'important': 601,\n",
              " '26': 27,\n",
              " 'turned': 1241,\n",
              " 'immediately': 600,\n",
              " '150': 9,\n",
              " 'responsible': 1023,\n",
              " '21': 20,\n",
              " 'california': 200,\n",
              " '28': 29,\n",
              " 'san': 1047,\n",
              " 'getting': 520,\n",
              " 'vs': 1279,\n",
              " 'town': 1226,\n",
              " 'robert': 1033,\n",
              " 'institute': 618,\n",
              " 'studies': 1159,\n",
              " 'st': 1133,\n",
              " 'date': 328,\n",
              " 'view': 1276,\n",
              " 'possible': 904,\n",
              " 'huge': 588,\n",
              " 'difference': 366,\n",
              " 'personally': 874,\n",
              " 'best': 165,\n",
              " 'boston': 182,\n",
              " '1990': 14,\n",
              " 'chicago': 234,\n",
              " 'did': 362,\n",
              " 'miles': 761,\n",
              " 'lived': 693,\n",
              " '41': 44,\n",
              " '93': 58,\n",
              " 'month': 779,\n",
              " 'property': 942,\n",
              " '250': 25,\n",
              " '39': 40,\n",
              " 'seriously': 1077,\n",
              " 'try': 1238,\n",
              " 'calling': 202,\n",
              " 'places': 883,\n",
              " 'changed': 226,\n",
              " 'signal': 1094,\n",
              " 'output': 850,\n",
              " 'easily': 404,\n",
              " 'card': 208,\n",
              " 'seen': 1067,\n",
              " 'simple': 1097,\n",
              " 'practice': 912,\n",
              " 'exact': 437,\n",
              " 'background': 149,\n",
              " 'unix': 1254,\n",
              " 'running': 1041,\n",
              " 'mit': 770,\n",
              " 'sun': 1170,\n",
              " 'window': 1305,\n",
              " 'tried': 1232,\n",
              " 'failed': 458,\n",
              " 'matter': 737,\n",
              " 'wasn': 1287,\n",
              " 'ed': 408,\n",
              " 'speaking': 1126,\n",
              " 'claimed': 250,\n",
              " 'oh': 833,\n",
              " 'yeah': 1330,\n",
              " 'tools': 1221,\n",
              " 'hardware': 557,\n",
              " 'ps': 950,\n",
              " 'free': 502,\n",
              " 'copy': 303,\n",
              " 'mailing': 721,\n",
              " 'write': 1324,\n",
              " 'stuff': 1161,\n",
              " 'appears': 110,\n",
              " 'street': 1156,\n",
              " 'ca': 198,\n",
              " 'fax': 471,\n",
              " 'support': 1172,\n",
              " 'box': 184,\n",
              " 'left': 675,\n",
              " 'specific': 1128,\n",
              " 'definitely': 344,\n",
              " 'drives': 396,\n",
              " 'involved': 626,\n",
              " 'writes': 1325,\n",
              " 'worked': 1316,\n",
              " 'hello': 569,\n",
              " 'voice': 1277,\n",
              " 'input': 613,\n",
              " 'user': 1260,\n",
              " 'greatly': 538,\n",
              " 'appreciate': 115,\n",
              " 'care': 210,\n",
              " 'names': 794,\n",
              " 'respond': 1020,\n",
              " 'sufficient': 1165,\n",
              " 'avoid': 146,\n",
              " 'usual': 1264,\n",
              " 'cold': 260,\n",
              " 'end': 418,\n",
              " 'big': 168,\n",
              " 'gas': 514,\n",
              " 'hot': 584,\n",
              " 'official': 832,\n",
              " 'everybody': 434,\n",
              " 'yes': 1333,\n",
              " 'table': 1182,\n",
              " 'service': 1079,\n",
              " 'mind': 764,\n",
              " 'wish': 1307,\n",
              " 'attack': 138,\n",
              " 'half': 548,\n",
              " 'truth': 1237,\n",
              " 'dangerous': 326,\n",
              " 'accepted': 64,\n",
              " 'earth': 402,\n",
              " 'god': 525,\n",
              " 'health': 562,\n",
              " 'future': 511,\n",
              " 'respect': 1019,\n",
              " 'leave': 673,\n",
              " 'error': 425,\n",
              " 'style': 1163,\n",
              " 'mother': 783,\n",
              " 'response': 1021,\n",
              " 'proper': 940,\n",
              " 'paul': 864,\n",
              " 'men': 750,\n",
              " 'forget': 498,\n",
              " 'spend': 1131,\n",
              " 'putting': 957,\n",
              " 'points': 893,\n",
              " 'greater': 537,\n",
              " 'depends': 349,\n",
              " 'lot': 710,\n",
              " 'safety': 1044,\n",
              " 'middle': 759,\n",
              " 'ground': 539,\n",
              " 'protection': 945,\n",
              " 'lots': 711,\n",
              " 'worry': 1320,\n",
              " 'check': 232,\n",
              " 'local': 698,\n",
              " 'serial': 1075,\n",
              " 'face': 455,\n",
              " 'replaced': 1007,\n",
              " 'sell': 1069,\n",
              " 'came': 204,\n",
              " 'numbers': 824,\n",
              " 'son': 1115,\n",
              " 'doctor': 381,\n",
              " 'father': 470,\n",
              " 'appropriate': 118,\n",
              " 'advice': 85,\n",
              " 'anti': 106,\n",
              " 'condition': 288,\n",
              " 'shall': 1084,\n",
              " 'subject': 1164,\n",
              " 'cause': 215,\n",
              " 'past': 863,\n",
              " 'define': 343,\n",
              " 'count': 309,\n",
              " 'acts': 72,\n",
              " 'army': 129,\n",
              " 'south': 1123,\n",
              " 'lines': 688,\n",
              " 'western': 1299,\n",
              " 'march': 732,\n",
              " 'cut': 325,\n",
              " 'land': 661,\n",
              " 'population': 899,\n",
              " 'near': 799,\n",
              " '42': 45,\n",
              " 'members': 748,\n",
              " 'road': 1032,\n",
              " 'killed': 649,\n",
              " 'isn': 627,\n",
              " 'week': 1293,\n",
              " 'israel': 628,\n",
              " 'begin': 158,\n",
              " 'mention': 751,\n",
              " 'pointed': 892,\n",
              " 'effect': 411,\n",
              " 'long': 700,\n",
              " 'obviously': 828,\n",
              " 'effective': 412,\n",
              " 'wouldn': 1323,\n",
              " 'magazine': 719,\n",
              " 'agree': 89,\n",
              " 'far': 467,\n",
              " 'stated': 1141,\n",
              " 'goal': 524,\n",
              " 'drug': 399,\n",
              " 'strong': 1157,\n",
              " 'encryption': 417,\n",
              " 'majority': 724,\n",
              " 'clipper': 256,\n",
              " 'government': 534,\n",
              " 'public': 952,\n",
              " 'fear': 473,\n",
              " 'large': 663,\n",
              " 'hate': 558,\n",
              " 'gun': 544,\n",
              " 'word': 1313,\n",
              " 'legal': 676,\n",
              " 'suspect': 1179,\n",
              " 'need': 803,\n",
              " 'cases': 214,\n",
              " 'congress': 290,\n",
              " 'tax': 1189,\n",
              " 'hands': 551,\n",
              " 'likely': 684,\n",
              " 'court': 314,\n",
              " 'act': 69,\n",
              " 'willing': 1303,\n",
              " 'wait': 1280,\n",
              " 'having': 560,\n",
              " 'talk': 1186,\n",
              " 'guns': 545,\n",
              " '34': 37,\n",
              " 'apr': 119,\n",
              " '1993': 17,\n",
              " 'technical': 1192,\n",
              " 'imagine': 599,\n",
              " 'doing': 385,\n",
              " 'action': 70,\n",
              " 'assuming': 137,\n",
              " 'transfer': 1230,\n",
              " 'function': 509,\n",
              " 'actions': 71,\n",
              " 'carry': 211,\n",
              " 'series': 1076,\n",
              " 'safe': 1043,\n",
              " 'shot': 1088,\n",
              " 'doesn': 384,\n",
              " 'minutes': 766,\n",
              " 'open': 839,\n",
              " 'parts': 859,\n",
              " 'quality': 958,\n",
              " 'smith': 1107,\n",
              " 'rule': 1038,\n",
              " 'police': 894,\n",
              " 'self': 1068,\n",
              " 'defense': 342,\n",
              " 'excellent': 441,\n",
              " 'necessary': 802,\n",
              " 'needed': 804,\n",
              " 'department': 347,\n",
              " 'issue': 630,\n",
              " 'limited': 686,\n",
              " 'pick': 878,\n",
              " 'admit': 82,\n",
              " 'sorry': 1117,\n",
              " 'gone': 528,\n",
              " 'missing': 769,\n",
              " 'previous': 921,\n",
              " 'baseball': 153,\n",
              " 'basis': 157,\n",
              " 'merely': 753,\n",
              " 'dave': 329,\n",
              " 'game': 512,\n",
              " 'start': 1137,\n",
              " 'truly': 1235,\n",
              " 'bring': 187,\n",
              " 'home': 582,\n",
              " 'digital': 369,\n",
              " 'straight': 1155,\n",
              " 'took': 1220,\n",
              " '75': 53,\n",
              " 'bad': 150,\n",
              " 'giving': 523,\n",
              " 'games': 513,\n",
              " 'held': 567,\n",
              " 'kept': 644,\n",
              " 'okay': 835,\n",
              " 'mark': 733,\n",
              " 'sent': 1073,\n",
              " 'toronto': 1223,\n",
              " 'advantage': 84,\n",
              " 'certain': 222,\n",
              " 'regular': 995,\n",
              " 'season': 1060,\n",
              " 'tend': 1197,\n",
              " 'knowing': 655,\n",
              " 'charge': 229,\n",
              " 'net': 806,\n",
              " 'easy': 406,\n",
              " 'dr': 391,\n",
              " 'student': 1158,\n",
              " 'working': 1317,\n",
              " 'project': 938,\n",
              " 'ideas': 594,\n",
              " 'prefer': 914,\n",
              " 'benefit': 164,\n",
              " 'completely': 283,\n",
              " 'process': 931,\n",
              " 'following': 493,\n",
              " 'minor': 765,\n",
              " 'id': 591,\n",
              " 'current': 323,\n",
              " 'create': 317,\n",
              " 'thread': 1212,\n",
              " 'study': 1160,\n",
              " 'present': 915,\n",
              " 'christians': 244,\n",
              " 'mean': 740,\n",
              " 'hi': 574,\n",
              " '200': 19,\n",
              " 'printer': 925,\n",
              " 'driver': 394,\n",
              " 'windows': 1306,\n",
              " 'wonder': 1311,\n",
              " 'luck': 715,\n",
              " 'covered': 316,\n",
              " 'die': 364,\n",
              " 'military': 762,\n",
              " 'million': 763,\n",
              " 'women': 1309,\n",
              " 'wrote': 1329,\n",
              " 'lord': 706,\n",
              " 'special': 1127,\n",
              " 'library': 680,\n",
              " 'letter': 678,\n",
              " 'states': 1144,\n",
              " 'volume': 1278,\n",
              " 'archive': 121,\n",
              " 'section': 1063,\n",
              " 'command': 268,\n",
              " 'night': 813,\n",
              " 'statements': 1143,\n",
              " 'church': 245,\n",
              " 'committed': 272,\n",
              " 'authority': 143,\n",
              " 'order': 845,\n",
              " 'white': 1300,\n",
              " 'protect': 944,\n",
              " 'needs': 805,\n",
              " 'country': 311,\n",
              " 'switch': 1180,\n",
              " 'red': 990,\n",
              " 'remain': 1003,\n",
              " 'position': 901,\n",
              " 'remember': 1004,\n",
              " 'idea': 593,\n",
              " 'rom': 1035,\n",
              " 'obvious': 827,\n",
              " 'exactly': 438,\n",
              " 'dos': 388,\n",
              " '17': 11,\n",
              " 'welcome': 1296,\n",
              " 'sources': 1122,\n",
              " 'nasa': 795,\n",
              " 'press': 917,\n",
              " 'area': 122,\n",
              " 'hours': 585,\n",
              " 'surface': 1178,\n",
              " 'allow': 94,\n",
              " 'possibility': 903,\n",
              " 'result': 1025,\n",
              " 'form': 499,\n",
              " 'determine': 356,\n",
              " 'produce': 932,\n",
              " 'described': 350,\n",
              " 'nature': 798,\n",
              " '00': 0,\n",
              " 'release': 998,\n",
              " '22': 21,\n",
              " 'plan': 884,\n",
              " '70': 52,\n",
              " 'original': 848,\n",
              " '90': 56,\n",
              " '29': 30,\n",
              " '31': 34,\n",
              " 'released': 999,\n",
              " 'entire': 421,\n",
              " 'including': 606,\n",
              " 'accurate': 68,\n",
              " 'level': 679,\n",
              " 'european': 430,\n",
              " 'agency': 87,\n",
              " 'various': 1269,\n",
              " 'radio': 966,\n",
              " 'built': 192,\n",
              " 'north': 817,\n",
              " 'pass': 861,\n",
              " 'results': 1026,\n",
              " 'science': 1055,\n",
              " 'articles': 131,\n",
              " 'posting': 908,\n",
              " 'track': 1227,\n",
              " 'field': 478,\n",
              " 'search': 1059,\n",
              " 'national': 796,\n",
              " 'development': 359,\n",
              " 'gov': 533,\n",
              " 'unit': 1251,\n",
              " 'scientific': 1056,\n",
              " 'proposed': 943,\n",
              " 'context': 297,\n",
              " 'sites': 1101,\n",
              " 'terms': 1199,\n",
              " 'motif': 785,\n",
              " 'events': 432,\n",
              " 'test': 1200,\n",
              " 'faq': 466,\n",
              " 'answers': 105,\n",
              " 'require': 1014,\n",
              " 'notice': 820,\n",
              " 'versions': 1273,\n",
              " 'internal': 623,\n",
              " 'offers': 830,\n",
              " 'break': 186,\n",
              " 'concept': 285,\n",
              " 'explain': 451,\n",
              " 'reality': 977,\n",
              " 'washington': 1286,\n",
              " '33': 36,\n",
              " 'la': 659,\n",
              " 'services': 1080,\n",
              " 'blue': 175,\n",
              " 'lack': 660,\n",
              " 'peace': 867,\n",
              " 'kill': 648,\n",
              " 'meaning': 741,\n",
              " 'religious': 1002,\n",
              " 'groups': 541,\n",
              " 'social': 1108,\n",
              " 'beliefs': 161,\n",
              " 'entirely': 422,\n",
              " 'belief': 160,\n",
              " 'examples': 440,\n",
              " 'specifically': 1129,\n",
              " 'west': 1298,\n",
              " 'sale': 1046,\n",
              " 'forces': 497,\n",
              " 'east': 405,\n",
              " 'relatively': 997,\n",
              " 'standards': 1136,\n",
              " 'areas': 123,\n",
              " 'text': 1202,\n",
              " 'unfortunately': 1250,\n",
              " 'evidence': 435,\n",
              " 'instance': 616,\n",
              " 'century': 221,\n",
              " 'nearly': 800,\n",
              " 'crime': 319,\n",
              " 'event': 431,\n",
              " 'political': 896,\n",
              " 'mr': 789,\n",
              " 'weeks': 1294,\n",
              " 'john': 639,\n",
              " '40': 42,\n",
              " 'europe': 429,\n",
              " 'brought': 188,\n",
              " 'americans': 101,\n",
              " 'civil': 248,\n",
              " 'april': 120,\n",
              " 'beginning': 159,\n",
              " 'decision': 341,\n",
              " 'independent': 608,\n",
              " 'president': 916,\n",
              " 'countries': 310,\n",
              " 'blood': 174,\n",
              " 'arms': 128,\n",
              " 'receive': 984,\n",
              " 'dead': 334,\n",
              " 'thousands': 1211,\n",
              " 'gives': 522,\n",
              " ...}"
            ]
          },
          "metadata": {},
          "execution_count": 89
        }
      ]
    },
    {
      "cell_type": "code",
      "source": [
        "doc_freq = np.array(TNG_cv.astype(bool).sum(axis=0)).flatten()\n",
        "a = plt.hist(doc_freq, bins=100,log=True)\n",
        "plt.xlabel(\"indice palabra\")\n",
        "plt.ylabel(\"Cant de art en los que aparece\")\n",
        "plt.show()"
      ],
      "metadata": {
        "colab": {
          "base_uri": "https://localhost:8080/",
          "height": 449
        },
        "id": "QDu88UYeNOFu",
        "outputId": "7570f981-7b21-4cbe-d27a-0418f4f30800"
      },
      "execution_count": null,
      "outputs": [
        {
          "output_type": "display_data",
          "data": {
            "text/plain": [
              "<Figure size 640x480 with 1 Axes>"
            ],
            "image/png": "[encoded data removed]"
          },
          "metadata": {}
        }
      ]
    },
    {
      "cell_type": "markdown",
      "source": [
        "## Count Vectorizer 1-gramas"
      ],
      "metadata": {
        "id": "4gNqCtxqpWbx"
      }
    },
    {
      "cell_type": "code",
      "source": [
        "# Transformar textos a matrices\n",
        "count_vectorizer = CountVectorizer(ngram_range=(1,1), max_df=0.2, min_df=100, stop_words=\"english\")\n",
        "wordcount_cv1 = count_vectorizer.fit_transform(newsgroups.data)"
      ],
      "metadata": {
        "id": "GA2G1WzdpZPr"
      },
      "execution_count": null,
      "outputs": []
    },
    {
      "cell_type": "code",
      "source": [
        "wordcount_norm = (wordcount_cv1.toarray().T/(np.linalg.norm(wordcount_cv1.toarray(), axis=-1)+1e-8)).T\n",
        "cos_dist = np.dot(wordcount_norm[sample_idx], wordcount_norm.T)\n",
        "printNeighbours(newsgroups, cos_dist)"
      ],
      "metadata": {
        "colab": {
          "base_uri": "https://localhost:8080/"
        },
        "id": "NmRzoX_6XlUC",
        "outputId": "0fab2049-ec76-4e68-baa0-9bd11fe40248"
      },
      "execution_count": null,
      "outputs": [
        {
          "output_type": "stream",
          "name": "stdout",
          "text": [
            "Sample idx: 101\n",
            "Sample cat: sci.electronics\n",
            "\n",
            " Neighbours:\n",
            "- idx: 2356 \t cat: comp.os.ms-windows.misc \t sim: 0.30323921624947586\n",
            "- idx: 3414 \t cat: misc.forsale \t sim: 0.29134281517931165\n",
            "- idx: 6709 \t cat: comp.sys.mac.hardware \t sim: 0.2785430053556214\n",
            "- idx: 2088 \t cat: comp.sys.mac.hardware \t sim: 0.2785430053556214\n",
            "- idx: 1267 \t cat: comp.graphics \t sim: 0.26681493741135137\n",
            "- idx: 515 \t cat: comp.os.ms-windows.misc \t sim: 0.26533431421829135\n",
            "- idx: 539 \t cat: comp.windows.x \t sim: 0.26261286337483186\n",
            "- idx: 3037 \t cat: misc.forsale \t sim: 0.259039734283655\n",
            "- idx: 6571 \t cat: comp.sys.mac.hardware \t sim: 0.25751310011989975\n"
          ]
        }
      ]
    },
    {
      "cell_type": "markdown",
      "source": [
        "##Count Vectorizer 2-gramas"
      ],
      "metadata": {
        "id": "P4iNDpUWr5XE"
      }
    },
    {
      "cell_type": "code",
      "source": [
        "# Transformar textos a matrices\n",
        "count_vectorizer2 = CountVectorizer(ngram_range=(1,2), max_df=0.25, min_df=50, stop_words=\"english\")\n",
        "wordcount2 = count_vectorizer2.fit_transform(newsgroups.data)"
      ],
      "metadata": {
        "id": "EjNngdRFr8qZ"
      },
      "execution_count": null,
      "outputs": []
    },
    {
      "cell_type": "code",
      "source": [
        "wordcount_norm = (wordcount2.toarray().T/(np.linalg.norm(wordcount2.toarray(), axis=-1)+1e-8)).T\n",
        "cos_dist = np.dot(wordcount_norm[sample_idx], wordcount_norm.T)\n",
        "printNeighbours(newsgroups, cos_dist)"
      ],
      "metadata": {
        "colab": {
          "base_uri": "https://localhost:8080/"
        },
        "id": "2-tm2rzgcNL2",
        "outputId": "c989d56e-4ce3-485e-c535-938bfc82b3b6"
      },
      "execution_count": null,
      "outputs": [
        {
          "output_type": "stream",
          "name": "stdout",
          "text": [
            "Sample idx: 101\n",
            "Sample cat: sci.electronics\n",
            "\n",
            " Neighbours:\n",
            "- idx: 6571 \t cat: comp.sys.mac.hardware \t sim: 0.28226724232129086\n",
            "- idx: 4116 \t cat: sci.electronics \t sim: 0.2705008884160407\n",
            "- idx: 3558 \t cat: comp.graphics \t sim: 0.2500781610493984\n",
            "- idx: 2356 \t cat: comp.os.ms-windows.misc \t sim: 0.2498780181317698\n",
            "- idx: 6709 \t cat: comp.sys.mac.hardware \t sim: 0.23426064129575225\n",
            "- idx: 3414 \t cat: misc.forsale \t sim: 0.22086305141432855\n",
            "- idx: 1335 \t cat: comp.os.ms-windows.misc \t sim: 0.22086305024302536\n",
            "- idx: 515 \t cat: comp.os.ms-windows.misc \t sim: 0.2143973613857909\n",
            "- idx: 454 \t cat: sci.crypt \t sim: 0.20300517600399762\n"
          ]
        }
      ]
    },
    {
      "cell_type": "markdown",
      "source": [
        "##Count Vectorizer 3-gramas"
      ],
      "metadata": {
        "id": "NNC2FKLRcXr6"
      }
    },
    {
      "cell_type": "code",
      "source": [
        "# Transformar textos a matrices\n",
        "count_vectorizer3 = CountVectorizer(ngram_range=(1,3), max_df=0.25, min_df=50, stop_words=\"english\")\n",
        "wordcount3 = count_vectorizer3.fit_transform(newsgroups.data)"
      ],
      "metadata": {
        "id": "kVizPCq4caRd"
      },
      "execution_count": null,
      "outputs": []
    },
    {
      "cell_type": "code",
      "source": [
        "wordcount3_norm = (wordcount3.toarray().T/(np.linalg.norm(wordcount3.toarray(), axis=-1)+1e-8)).T\n",
        "cos_dist = np.dot(wordcount3_norm[sample_idx], wordcount3_norm.T)\n",
        "printNeighbours(newsgroups, cos_dist)"
      ],
      "metadata": {
        "colab": {
          "base_uri": "https://localhost:8080/"
        },
        "id": "VfQn2A5GceZi",
        "outputId": "ccbb219e-b751-4a40-d33e-f7c5b95c93c4"
      },
      "execution_count": null,
      "outputs": [
        {
          "output_type": "stream",
          "name": "stdout",
          "text": [
            "Sample idx: 101\n",
            "Sample cat: sci.electronics\n",
            "\n",
            " Neighbours:\n",
            "- idx: 6571 \t cat: comp.sys.mac.hardware \t sim: 0.28226724232129086\n",
            "- idx: 4116 \t cat: sci.electronics \t sim: 0.2705008884160407\n",
            "- idx: 3558 \t cat: comp.graphics \t sim: 0.2500781610493984\n",
            "- idx: 2356 \t cat: comp.os.ms-windows.misc \t sim: 0.2498780181317698\n",
            "- idx: 6709 \t cat: comp.sys.mac.hardware \t sim: 0.23426064129575225\n",
            "- idx: 3414 \t cat: misc.forsale \t sim: 0.22086305141432855\n",
            "- idx: 1335 \t cat: comp.os.ms-windows.misc \t sim: 0.22086305024302536\n",
            "- idx: 515 \t cat: comp.os.ms-windows.misc \t sim: 0.2143973613857909\n",
            "- idx: 454 \t cat: sci.crypt \t sim: 0.20300517600399762\n"
          ]
        }
      ]
    },
    {
      "cell_type": "markdown",
      "source": [
        "## TFIDF 1-gramas"
      ],
      "metadata": {
        "id": "rD6ralARj2rz"
      }
    },
    {
      "cell_type": "code",
      "source": [
        "# Transformar textos a matrices\n",
        "Tfidf_vec = TfidfVectorizer(ngram_range=(1,1), max_df=0.25, min_df=50, stop_words=\"english\")\n",
        "wordcount_tfidf = Tfidf_vec.fit_transform(newsgroups.data)"
      ],
      "metadata": {
        "id": "O5nxaWNVj2r-"
      },
      "execution_count": null,
      "outputs": []
    },
    {
      "cell_type": "code",
      "source": [
        "wordcount_norm = (wordcount_tfidf.toarray().T/(np.linalg.norm(wordcount_tfidf.toarray(), axis=-1)+1e-8)).T\n",
        "cos_dist = np.dot(wordcount_norm[sample_idx], wordcount_norm.T)\n",
        "printNeighbours(newsgroups, cos_dist)"
      ],
      "metadata": {
        "colab": {
          "base_uri": "https://localhost:8080/"
        },
        "outputId": "b4011085-83bb-4f59-e322-3d65bb1e9e7a",
        "id": "LWWj1ca7j2r-"
      },
      "execution_count": null,
      "outputs": [
        {
          "output_type": "stream",
          "name": "stdout",
          "text": [
            "Sample idx: 101\n",
            "Sample cat: sci.electronics\n",
            "\n",
            " Neighbours:\n",
            "- idx: 1335 \t cat: comp.os.ms-windows.misc \t sim: 0.30565351223693193\n",
            "- idx: 3558 \t cat: comp.graphics \t sim: 0.2782806585695825\n",
            "- idx: 4116 \t cat: sci.electronics \t sim: 0.2735790141486182\n",
            "- idx: 6571 \t cat: comp.sys.mac.hardware \t sim: 0.269440932343452\n",
            "- idx: 454 \t cat: sci.crypt \t sim: 0.26894943271011185\n",
            "- idx: 5306 \t cat: comp.graphics \t sim: 0.2481168838378027\n",
            "- idx: 6709 \t cat: comp.sys.mac.hardware \t sim: 0.22063580583205183\n",
            "- idx: 1353 \t cat: sci.crypt \t sim: 0.21905179612338183\n",
            "- idx: 11234 \t cat: comp.os.ms-windows.misc \t sim: 0.21229259127950376\n"
          ]
        }
      ]
    },
    {
      "cell_type": "markdown",
      "source": [
        "## TFIDF 2-gramas"
      ],
      "metadata": {
        "id": "ToAAtCYckX9_"
      }
    },
    {
      "cell_type": "code",
      "source": [
        "# Transformar textos a matrices\n",
        "Tfidf_vec = TfidfVectorizer(ngram_range=(1,2), max_df=0.25, min_df=50, stop_words=\"english\")\n",
        "wordcount_tfidf2 = Tfidf_vec.fit_transform(newsgroups.data)"
      ],
      "metadata": {
        "id": "cVhoESl2kS5O"
      },
      "execution_count": null,
      "outputs": []
    },
    {
      "cell_type": "code",
      "source": [
        "wordcount_norm = (wordcount_tfidf2.toarray().T/(np.linalg.norm(wordcount_tfidf2.toarray(), axis=-1)+1e-8)).T\n",
        "cos_dist = np.dot(wordcount_norm[sample_idx], wordcount_norm.T)\n",
        "printNeighbours(newsgroups, cos_dist)"
      ],
      "metadata": {
        "colab": {
          "base_uri": "https://localhost:8080/"
        },
        "outputId": "685d5bc5-5a71-425a-f4be-b5b00926c8f8",
        "id": "TcRNH3dskS5O"
      },
      "execution_count": null,
      "outputs": [
        {
          "output_type": "stream",
          "name": "stdout",
          "text": [
            "Sample idx: 101\n",
            "Sample cat: sci.electronics\n",
            "\n",
            " Neighbours:\n",
            "- idx: 1335 \t cat: comp.os.ms-windows.misc \t sim: 0.30565351223693193\n",
            "- idx: 3558 \t cat: comp.graphics \t sim: 0.27542574679288157\n",
            "- idx: 4116 \t cat: sci.electronics \t sim: 0.2735790141486182\n",
            "- idx: 6571 \t cat: comp.sys.mac.hardware \t sim: 0.269440932343452\n",
            "- idx: 454 \t cat: sci.crypt \t sim: 0.26894943271011185\n",
            "- idx: 5306 \t cat: comp.graphics \t sim: 0.2481168838378027\n",
            "- idx: 6709 \t cat: comp.sys.mac.hardware \t sim: 0.22063580583205183\n",
            "- idx: 1353 \t cat: sci.crypt \t sim: 0.2173436089893961\n",
            "- idx: 11234 \t cat: comp.os.ms-windows.misc \t sim: 0.21229259127950376\n"
          ]
        }
      ]
    },
    {
      "cell_type": "markdown",
      "source": [
        "## TFIDF 3-gramas"
      ],
      "metadata": {
        "id": "NbI6k3Xwklty"
      }
    },
    {
      "cell_type": "code",
      "source": [
        "# Transformar textos a matrices\n",
        "Tfidf_vec = TfidfVectorizer(ngram_range=(1,3), max_df=0.25, min_df=50, stop_words=\"english\")\n",
        "wordcount_tfidf3 = Tfidf_vec.fit_transform(newsgroups.data)"
      ],
      "metadata": {
        "id": "r-nMSuHJklt6"
      },
      "execution_count": null,
      "outputs": []
    },
    {
      "cell_type": "code",
      "source": [
        "wordcount_norm = (wordcount_tfidf3.toarray().T/(np.linalg.norm(wordcount_tfidf3.toarray(), axis=-1)+1e-8)).T\n",
        "cos_dist = np.dot(wordcount_norm[sample_idx], wordcount_norm.T)\n",
        "printNeighbours(newsgroups, cos_dist)"
      ],
      "metadata": {
        "colab": {
          "base_uri": "https://localhost:8080/"
        },
        "outputId": "58a77d03-5caf-4a94-a1ad-bb3d62190933",
        "id": "_KcI_jqHklt6"
      },
      "execution_count": null,
      "outputs": [
        {
          "output_type": "stream",
          "name": "stdout",
          "text": [
            "Sample idx: 101\n",
            "Sample cat: sci.electronics\n",
            "\n",
            " Neighbours:\n",
            "- idx: 1335 \t cat: comp.os.ms-windows.misc \t sim: 0.30565351223693193\n",
            "- idx: 3558 \t cat: comp.graphics \t sim: 0.27542574679288157\n",
            "- idx: 4116 \t cat: sci.electronics \t sim: 0.2735790141486182\n",
            "- idx: 6571 \t cat: comp.sys.mac.hardware \t sim: 0.269440932343452\n",
            "- idx: 454 \t cat: sci.crypt \t sim: 0.26894943271011185\n",
            "- idx: 5306 \t cat: comp.graphics \t sim: 0.2481168838378027\n",
            "- idx: 6709 \t cat: comp.sys.mac.hardware \t sim: 0.22063580583205183\n",
            "- idx: 1353 \t cat: sci.crypt \t sim: 0.2173436089893961\n",
            "- idx: 11234 \t cat: comp.os.ms-windows.misc \t sim: 0.21229259127950376\n"
          ]
        }
      ]
    },
    {
      "cell_type": "markdown",
      "source": [
        "## Conclusiones\n",
        "\n"
      ],
      "metadata": {
        "id": "a5YyHblbYxXH"
      }
    },
    {
      "cell_type": "markdown",
      "source": [
        "* El uso de TF-IDF o Count Vectorizer no brindó resultados sustancialmente distintivos.\n",
        "\n",
        "* El uso de 2-gramas resultó beneficioso sobre 1-gramas, pero el uso de 3-gramas no dió mejoras frente a 2-gramas.\n",
        "\n",
        "* Configurar correctamente el ```min_df``` y el ```max_df``` puede ser una de las maneras más directas de mejorar la representación de los textos y términos.\n",
        "\n",
        "\n",
        "Cabe destacar que este analisis puede variar dependiendo de la categoria a analizar, ya que algunas se encuentran más \"entrelazadas\" que otras. Por ejemplo, Se inició el analisis con un artículo de la categoría \"autos\" pero estaba tan lejano al resto de categorías y clasificaba idealmente los textos similares que no se tomó como una métrica real."
      ],
      "metadata": {
        "id": "8vAIpWbQY_CF"
      }
    },
    {
      "cell_type": "markdown",
      "source": [
        "# Ejercicio 2\n"
      ],
      "metadata": {
        "id": "nUAvw-Sk2td0"
      }
    },
    {
      "cell_type": "markdown",
      "source": [
        "Repetir la exploración de similaridad de documentos pero utilizando la vectorización resultante de aplicar truncated SVD (disponible en sklearn) a la matriz de documento-término."
      ],
      "metadata": {
        "id": "H-6ad4sL23ez"
      }
    },
    {
      "cell_type": "markdown",
      "source": [
        "##Count Vectorizer 2-gramas + SVD"
      ],
      "metadata": {
        "id": "kmkrT1_zeZG_"
      }
    },
    {
      "cell_type": "code",
      "source": [
        "# Transformar textos a matrices\n",
        "count_vectorizer2 = CountVectorizer(ngram_range=(1,2), max_df=0.25, min_df=50, stop_words=\"english\")\n",
        "count_cv = count_vectorizer2.fit_transform(newsgroups.data)\n",
        "\n",
        "red = TruncatedSVD(n_components=250)\n",
        "count_cv_red = red.fit_transform(count_cv)"
      ],
      "metadata": {
        "id": "2Z-AEpJoeZHJ"
      },
      "execution_count": null,
      "outputs": []
    },
    {
      "cell_type": "code",
      "source": [
        "#Calculo de los vecinos\n",
        "count_norm = (count_cv_red.T/(np.linalg.norm(count_cv_red, axis=-1)+1e-8)).T\n",
        "cos_dist = np.dot(count_norm[sample_idx], count_norm.T)\n",
        "printNeighbours(newsgroups, cos_dist)"
      ],
      "metadata": {
        "colab": {
          "base_uri": "https://localhost:8080/"
        },
        "outputId": "4f5e71b6-447a-4ae2-91cd-c31826fb5210",
        "id": "94duPyDceZHJ"
      },
      "execution_count": null,
      "outputs": [
        {
          "output_type": "stream",
          "name": "stdout",
          "text": [
            "Sample idx: 101\n",
            "Sample cat: sci.electronics\n",
            "\n",
            " Neighbours:\n",
            "- idx: 9669 \t cat: sci.space \t sim: 0.4353920196391506\n",
            "- idx: 8273 \t cat: rec.autos \t sim: 0.4049529995975585\n",
            "- idx: 8791 \t cat: sci.electronics \t sim: 0.4022389617044571\n",
            "- idx: 11078 \t cat: comp.windows.x \t sim: 0.39629456718066997\n",
            "- idx: 10857 \t cat: comp.os.ms-windows.misc \t sim: 0.3933795951620791\n",
            "- idx: 1621 \t cat: rec.motorcycles \t sim: 0.3860750910395951\n",
            "- idx: 6709 \t cat: comp.sys.mac.hardware \t sim: 0.38336448030774073\n",
            "- idx: 3362 \t cat: misc.forsale \t sim: 0.3811251507403148\n",
            "- idx: 5076 \t cat: comp.sys.mac.hardware \t sim: 0.3790246320832596\n"
          ]
        }
      ]
    },
    {
      "cell_type": "markdown",
      "source": [
        "##TFIDF 2-gramas + SVD"
      ],
      "metadata": {
        "id": "YFkKAk8fhmNj"
      }
    },
    {
      "cell_type": "code",
      "source": [
        "# Transformar textos a matrices\n",
        "Tfidf_vec = TfidfVectorizer(ngram_range=(1,2), max_df=0.25, min_df=50, stop_words=\"english\")\n",
        "count_tfidf = Tfidf_vec.fit_transform(newsgroups.data)\n",
        "\n",
        "red = TruncatedSVD(n_components=250)\n",
        "count_tfidf_red = red.fit_transform(count_tfidf)"
      ],
      "metadata": {
        "id": "rV7Ald9UhmNt"
      },
      "execution_count": null,
      "outputs": []
    },
    {
      "cell_type": "code",
      "source": [
        "#Calculo de los vecinos\n",
        "count_norm = (count_tfidf_red.T/(np.linalg.norm(count_tfidf_red, axis=-1)+1e-8)).T\n",
        "cos_dist = np.dot(count_norm[sample_idx], count_norm.T)\n",
        "printNeighbours(newsgroups, cos_dist)"
      ],
      "metadata": {
        "colab": {
          "base_uri": "https://localhost:8080/"
        },
        "id": "B0umaoabhmNt",
        "outputId": "97cb2b1c-defd-49e6-e65e-f107578bbc0f"
      },
      "execution_count": null,
      "outputs": [
        {
          "output_type": "stream",
          "name": "stdout",
          "text": [
            "Sample idx: 101\n",
            "Sample cat: sci.electronics\n",
            "\n",
            " Neighbours:\n",
            "- idx: 6571 \t cat: comp.sys.mac.hardware \t sim: 0.4944860809613492\n",
            "- idx: 9744 \t cat: comp.os.ms-windows.misc \t sim: 0.4855841960086731\n",
            "- idx: 2356 \t cat: comp.os.ms-windows.misc \t sim: 0.4696874825823462\n",
            "- idx: 8988 \t cat: comp.sys.ibm.pc.hardware \t sim: 0.4668637705037127\n",
            "- idx: 3414 \t cat: misc.forsale \t sim: 0.4416753529372383\n",
            "- idx: 6709 \t cat: comp.sys.mac.hardware \t sim: 0.42683896678801797\n",
            "- idx: 7698 \t cat: soc.religion.christian \t sim: 0.4154278324537882\n",
            "- idx: 2088 \t cat: comp.sys.mac.hardware \t sim: 0.41085540517660846\n",
            "- idx: 3459 \t cat: comp.windows.x \t sim: 0.40451660930729216\n"
          ]
        }
      ]
    },
    {
      "cell_type": "markdown",
      "source": [
        "## Conclusiones\n",
        "\n",
        "Si bien la reducción de la dimensionalidad redujo el costo computacional, empeoró la performance de las estimaciones. Ahora casi ninguno de los textos calificados como similares es de la misma categoría que el tomado como sample aunque es cierto que en su mayoría presentan categorías relacionadas.\n",
        "\n"
      ],
      "metadata": {
        "id": "NQzj6LJXcokZ"
      }
    },
    {
      "cell_type": "markdown",
      "source": [
        "# Ejercicio 3\n"
      ],
      "metadata": {
        "id": "K_vt_2Wn2vuz"
      }
    },
    {
      "cell_type": "markdown",
      "source": [
        "Transponer la matriz documento-término, esto resultará en la matriz término-documento que provee embeddings de palabras. Explorar similaridad entre términos."
      ],
      "metadata": {
        "id": "4g8MrwN7258O"
      }
    },
    {
      "cell_type": "code",
      "source": [
        "# Transformar textos a matrices\n",
        "cv = CountVectorizer(ngram_range=(1,2), max_df=0.25, min_df=50, stop_words=\"english\")\n",
        "count_cv = cv.fit_transform(newsgroups.data)\n",
        "\n",
        "red = TruncatedSVD(n_components=100)\n",
        "count_cv_red = red.fit_transform(count_cv.T)"
      ],
      "metadata": {
        "id": "e67vg-lE2w4j"
      },
      "execution_count": null,
      "outputs": []
    },
    {
      "cell_type": "markdown",
      "source": [
        "## Display de palabras similares"
      ],
      "metadata": {
        "id": "ab7Erz9CndLt"
      }
    },
    {
      "cell_type": "code",
      "source": [
        "from sklearn.neighbors import NearestNeighbors"
      ],
      "metadata": {
        "id": "2eVqhMJTWEbL"
      },
      "execution_count": null,
      "outputs": []
    },
    {
      "cell_type": "code",
      "source": [
        "word_samples=[\"new york\", \"science\", \"church\", \"women\", \"nasa\"]\n",
        "\n",
        "neigh = NearestNeighbors(n_neighbors=20, metric=\"cosine\").fit(count_cv_red)\n",
        "\n",
        "printNeighKeras(word_samples=word_samples, neigh=neigh, cv=cv,\n",
        "                words_count=count_cv_red)"
      ],
      "metadata": {
        "colab": {
          "base_uri": "https://localhost:8080/"
        },
        "id": "PDuBn5e0XVgw",
        "outputId": "e0535fd8-f97e-4b07-9162-c549506a0859"
      },
      "execution_count": null,
      "outputs": [
        {
          "output_type": "stream",
          "name": "stdout",
          "text": [
            "Sample: new york\n",
            "['new york' 'york' 'north' 'boston' 'minnesota' 'montreal' 'new'\n",
            " 'washington' 'chicago' 'pittsburgh' 'detroit' 'toronto' 'league'\n",
            " 'rangers' 'seat' 'teams' 'sports' 'hockey' 'nhl' 'bay']\n",
            "Sample: science\n",
            "['science' 'scientific' 'general' 'elements' 'matter' 'material' 'star'\n",
            " 'lack' 'charge' 'absolute' 'engineering' 'related' 'books' 'nasa'\n",
            " 'society' 'existence' 'evidence' 'flight' 'theory' 'universe']\n",
            "Sample: church\n",
            "['church' 'catholic' 'doctrine' 'traditional' 'spiritual' 'divine'\n",
            " 'teaching' 'faith' 'christian' 'claiming' 'gay' 'tradition' 'christians'\n",
            " 'followers' 'christianity' 'sexual' 'interpret' 'sex' 'scripture' 'roman']\n",
            "Sample: women\n",
            "['women' 'alive' 'brought' 'lay' 'head' 'hospital' 'soldiers' 'burned'\n",
            " 'woman' 'killing' 'lived' 'came' 'started' 'happened' 'town' 'thrown'\n",
            " 'eyes' 'heard' 'couldn' 'leave']\n",
            "Sample: nasa\n",
            "['nasa' 'nasa gov' 'shuttle' 'flight' 'gov' 'space' 'reports'\n",
            " 'available anonymous' 'elements' 'johnson' 'science' '140' 'facility'\n",
            " 'cost' 'engineering' 'sci' 'ordered' 'select' '300' 'anonymous ftp']\n"
          ]
        }
      ]
    },
    {
      "cell_type": "markdown",
      "source": [
        "## Representacion con TSNE"
      ],
      "metadata": {
        "id": "z3HtiX_4nUL6"
      }
    },
    {
      "cell_type": "code",
      "source": [
        "from sklearn.manifold import TSNE\n",
        "from matplotlib import pyplot as plt\n",
        "\n",
        "X_embedded = TSNE(n_components=2,metric=\"cosine\").fit_transform(count_cv_red)"
      ],
      "metadata": {
        "id": "P7purdTjnPD7"
      },
      "execution_count": null,
      "outputs": []
    },
    {
      "cell_type": "code",
      "source": [
        "words=['new york', 'boston', 'nhl',         # Palabras simil new york\n",
        "       'science', 'matter', 'material',     # Palabras simil science\n",
        "       'church', 'divine', 'followers',     # Palabras simil church\n",
        "       'women', 'soldiers',                 # Palabras simil women\n",
        "       'nasa', 'shuttle', 'space'     # Palabras simil nasa\n",
        "       ]\n",
        "\n",
        "plt.figure(figsize=[10,10])\n",
        "plt.scatter(X_embedded[:,0],X_embedded[:,1], s=1)\n",
        "\n",
        "for word in words:\n",
        "    idx = cv.vocabulary_[word]\n",
        "    plt.text(X_embedded[idx,0],X_embedded[idx,1],word)"
      ],
      "metadata": {
        "colab": {
          "base_uri": "https://localhost:8080/",
          "height": 830
        },
        "id": "XfDbvHJlUZ1X",
        "outputId": "fddea38c-1230-49ef-a5ae-a067519591d9"
      },
      "execution_count": null,
      "outputs": [
        {
          "output_type": "display_data",
          "data": {
            "text/plain": [
              "<Figure size 1000x1000 with 1 Axes>"
            ],
            "image/png": "[encoded data removed]"
          },
          "metadata": {}
        }
      ]
    },
    {
      "cell_type": "markdown",
      "source": [
        "## Conclusiones\n",
        "\n",
        "Podemos ver que, en su mayoría, los terminos que el embedding propone como similares a los samples son realmente similares. Realizando la descomposicion con TSNE podemos ver gráficamente que estos términos similares se encuentran ubicados cerca de los samples."
      ],
      "metadata": {
        "id": "ma57ZhpmfLoD"
      }
    },
    {
      "cell_type": "markdown",
      "source": [
        "# Ejercicio 4\n",
        "\n"
      ],
      "metadata": {
        "id": "ZFWDGRpu2xO6"
      }
    },
    {
      "cell_type": "markdown",
      "source": [
        "Construir la matriz término-clase con las clases disponibles en 20 Newsgroups y con estos embeddings de palabras resultantes explorar similaridad entre términos."
      ],
      "metadata": {
        "id": "XwonOMs827wc"
      }
    },
    {
      "cell_type": "code",
      "source": [
        "count_vectorizer = CountVectorizer(ngram_range=(1,2), max_df=0.25, min_df=100, stop_words=\"english\")\n",
        "TNG_count = count_vectorizer.fit_transform(newsgroups.data)\n",
        "\n",
        "# Obtener los términos (palabras) en orden\n",
        "terms = count_vectorizer.get_feature_names_out()"
      ],
      "metadata": {
        "id": "AHO0JgIq2yTr"
      },
      "execution_count": null,
      "outputs": []
    },
    {
      "cell_type": "markdown",
      "source": [
        "## Generación Matriz Término-Clase\n",
        "\n"
      ],
      "metadata": {
        "id": "IEvjWCYvpA2m"
      }
    },
    {
      "cell_type": "code",
      "source": [
        "# Primero indexas la categoría despues el termino\n",
        "term_counts=np.zeros((len(terms), len(newsgroups.target_names)))\n",
        "\n",
        "# Contar la cantidad de veces que aparece cada término en cada clase\n",
        "for category_id, category_name in enumerate(newsgroups.target_names):\n",
        "    term_counts[:,category_id] = TNG_count[newsgroups.target == category_id].sum(axis=0).tolist()[0]"
      ],
      "metadata": {
        "id": "I1ADPthnpJWh"
      },
      "execution_count": null,
      "outputs": []
    },
    {
      "cell_type": "code",
      "source": [
        "term_counts"
      ],
      "metadata": {
        "colab": {
          "base_uri": "https://localhost:8080/"
        },
        "id": "-smIL1QBjam2",
        "outputId": "91d02990-cd7a-474c-a3a6-1f496671cb8e"
      },
      "execution_count": null,
      "outputs": [
        {
          "output_type": "execute_result",
          "data": {
            "text/plain": [
              "array([[  0.,  26.,  18., ...,   7.,  15.,   1.],\n",
              "       [ 17.,  12.,   3., ..., 145.,  53.,   9.],\n",
              "       [  5.,  54.,  39., ...,  59.,  58.,  22.],\n",
              "       ...,\n",
              "       [ 49.,  29.,  25., ...,  62.,  95.,  35.],\n",
              "       [  4.,   9.,   0., ...,  51.,  32.,   4.],\n",
              "       [ 16.,   1.,   2., ...,  64.,  63.,  13.]])"
            ]
          },
          "metadata": {},
          "execution_count": 15
        }
      ]
    },
    {
      "cell_type": "markdown",
      "source": [
        "## Exploración similitud"
      ],
      "metadata": {
        "id": "mFl7vh8hpMgN"
      }
    },
    {
      "cell_type": "code",
      "source": [
        "from sklearn.neighbors import NearestNeighbors"
      ],
      "metadata": {
        "id": "edhOgWMCWF1R"
      },
      "execution_count": null,
      "outputs": []
    },
    {
      "cell_type": "code",
      "source": [
        "word_samples=[\"new york\", \"science\", \"church\", \"women\", \"nasa\"]\n",
        "\n",
        "neigh = NearestNeighbors(n_neighbors=20, metric=\"cosine\").fit(term_counts)\n",
        "printNeighKeras(word_samples=word_samples, neigh=neigh, cv=count_vectorizer,\n",
        "                words_count=term_counts)"
      ],
      "metadata": {
        "colab": {
          "base_uri": "https://localhost:8080/"
        },
        "id": "yC4aPB8GqBog",
        "outputId": "200cfa3b-3024-41bf-d88f-bc1931f220f1"
      },
      "execution_count": null,
      "outputs": [
        {
          "output_type": "stream",
          "name": "stdout",
          "text": [
            "Sample: new york\n",
            "['new york' 'york' 'san' 'night' 'young' 'west' 'guy' 'gone' 'year' 'city'\n",
            " 'looked' 'home' 'guys' 'wasn' 'east' 'close' 'chance' 'lose' 'years'\n",
            " 'past']\n",
            "Sample: science\n",
            "['science' 'theory' 'scientific' 'significant' 'research' 'dr' 'caused'\n",
            " 'studies' 'eventually' 'age' 'results' 'references' 'taking' 'natural'\n",
            " 'practice' 'effects' 'causes' 'alternative' 'highly' 'weight']\n",
            "Sample: church\n",
            "['church' 'christ' 'lord' 'faith' 'christians' 'christianity' 'truth'\n",
            " 'god' 'hell' 'paul' 'jesus' 'christian' 'love' 'authority' 'beliefs'\n",
            " 'bible' 'father' 'acts' 'understanding' 'son']\n",
            "Sample: women\n",
            "['women' 'brought' 'killing' 'said' 'peace' 'told' 'lived' 'woman'\n",
            " 'history' 'happened' 'couldn' 'population' 'forces' 'anti' 'wife'\n",
            " 'jewish' 'turned' 'saw' 'started' 'came']\n",
            "Sample: nasa\n",
            "['nasa' 'space' 'station' 'dc' 'earth' 'vehicle' 'surface' 'project'\n",
            " 'development' 'commercial' 'mass' 'engineering' 'cost' 'institute'\n",
            " 'material' 'design' 'center' 'gov' 'costs' 'sci']\n"
          ]
        }
      ]
    },
    {
      "cell_type": "markdown",
      "source": [
        "## Terminos frecuentes por clase"
      ],
      "metadata": {
        "id": "zxl0MFSbvTMZ"
      }
    },
    {
      "cell_type": "code",
      "source": [
        "term_frec=np.zeros((len(terms), len(newsgroups.target_names)))\n",
        "\n",
        "for word in range(len(terms)):\n",
        "  term_frec[word,:] = term_counts[word,:] / term_counts[word,:].sum(axis=0).tolist()\n",
        "\n",
        "for category_id, category_name in enumerate(newsgroups.target_names):\n",
        "  freq_terms = np.argsort(term_frec[:,category_id])[::-1]\n",
        "  print(\"\\n Category:\", category_name)\n",
        "  print(terms[freq_terms[:5]])"
      ],
      "metadata": {
        "id": "fhXj6AgLhMkn",
        "colab": {
          "base_uri": "https://localhost:8080/"
        },
        "outputId": "c58bbfa6-9c4e-4a99-e6b9-8062cf6641cf"
      },
      "execution_count": null,
      "outputs": [
        {
          "output_type": "stream",
          "name": "stdout",
          "text": [
            "\n",
            " Category: alt.atheism\n",
            "['belief' 'religious' 'religion' 'argument' 'conclusion']\n",
            "\n",
            " Category: comp.graphics\n",
            "['image' 'graphics' 'images' 'format' 'convert']\n",
            "\n",
            " Category: comp.os.ms-windows.misc\n",
            "['windows' '34' '45' 'air' 'ms']\n",
            "\n",
            " Category: comp.sys.ibm.pc.hardware\n",
            "['ide' 'controller' 'scsi' 'drives' 'bus']\n",
            "\n",
            " Category: comp.sys.mac.hardware\n",
            "['apple' 'mac' 'internal' 'external' 'ram']\n",
            "\n",
            " Category: comp.windows.x\n",
            "['motif' 'window' 'mit' 'server' 'output']\n",
            "\n",
            " Category: misc.forsale\n",
            "['sale' 'shipping' 'offer' '00' 'condition']\n",
            "\n",
            " Category: rec.autos\n",
            "['cars' 'car' 'dealer' 'engine' 'driving']\n",
            "\n",
            " Category: rec.motorcycles\n",
            "['bike' 'miles' 'piece' 'road' 'hey']\n",
            "\n",
            " Category: rec.sport.baseball\n",
            "['baseball' 'fan' 'hit' 'runs' 'players']\n",
            "\n",
            " Category: rec.sport.hockey\n",
            "['nhl' 'hockey' 'season' 'la' 'teams']\n",
            "\n",
            " Category: sci.crypt\n",
            "['encryption' 'nsa' 'clipper' 'secure' 'keys']\n",
            "\n",
            " Category: sci.electronics\n",
            "['ground' 'hot' 'supply' 'pin' 'signal']\n",
            "\n",
            " Category: sci.med\n",
            "['gordon' 'doctor' 'medical' 'treatment' 'banks']\n",
            "\n",
            " Category: sci.space\n",
            "['nasa' 'space' 'earth' 'dc' 'vehicle']\n",
            "\n",
            " Category: soc.religion.christian\n",
            "['church' 'christ' 'lord' 'faith' 'christianity']\n",
            "\n",
            " Category: talk.politics.guns\n",
            "['gun' 'guns' 'weapons' 'crime' 'fbi']\n",
            "\n",
            " Category: talk.politics.mideast\n",
            "['israeli' 'israel' 'jews' 'jewish' 'killed']\n",
            "\n",
            " Category: talk.politics.misc\n",
            "['president' 'tax' 'mr' 'economic' 'summer']\n",
            "\n",
            " Category: talk.religion.misc\n",
            "['moral' 'bible' 'jesus' 'christian' 'context']\n"
          ]
        }
      ]
    },
    {
      "cell_type": "markdown",
      "source": [
        "## Conclusiones\n",
        "Analizando qué términos son más frecuentes en cada clase podemos obtener una muy buena caracterización o representación de dicha clase.\n",
        "\n",
        "Una observación considerable es que hay palabras como \"women\" que resultan mucho más complicado de buscar términos relacionados que otras como \"nasa\". Esto muy posiblemente se deba a que dicha palabra no esta en una categoria especifica, sino que se encuentre en varias categorias y por ello no presentan términos asociados particulares."
      ],
      "metadata": {
        "id": "q_WaayBljivj"
      }
    },
    {
      "cell_type": "markdown",
      "source": [
        "# Ejercicio 5"
      ],
      "metadata": {
        "id": "ttdUVdDI2yvu"
      }
    },
    {
      "cell_type": "markdown",
      "source": [
        "Construir la matriz término-término utilizando una ventana de contexto. Para construir esta matriz serán útiles las funcionalidades de Keras make_sampling_table, skipgrams y el tokenizador de Keras. Explorar resultados de similaridad de términos con diferentes tamaños de contexto."
      ],
      "metadata": {
        "id": "FM4C1SWd29XZ"
      }
    },
    {
      "cell_type": "markdown",
      "source": [
        "## Tokenización de textos"
      ],
      "metadata": {
        "id": "UMMO5Otb9fTx"
      }
    },
    {
      "cell_type": "code",
      "source": [
        "from keras.preprocessing.text import Tokenizer\n",
        "N=10000\n",
        "tokenizer = Tokenizer(num_words=N)    # Instanciamos el tokenizador\n",
        "tokenizer.fit_on_texts(newsgroups.data) # Ajustamos el tokenizador\n",
        "\n",
        "# Pasamos cada texto a sus respectivos tokens\n",
        "seqs=tokenizer.texts_to_sequences(newsgroups.data)\n",
        "all_seqs=np.hstack(seqs).astype(int)"
      ],
      "metadata": {
        "id": "FxjbyAbb3WUp"
      },
      "execution_count": null,
      "outputs": []
    },
    {
      "cell_type": "code",
      "source": [
        "all_seqs"
      ],
      "metadata": {
        "colab": {
          "base_uri": "https://localhost:8080/"
        },
        "id": "MbVUeLvk8nnR",
        "outputId": "08002a61-d154-4ea4-a471-a057bf7f3c1d"
      },
      "execution_count": null,
      "outputs": [
        {
          "output_type": "execute_result",
          "data": {
            "text/plain": [
              "array([   7,   26, 1383, ...,  181,   41, 4767])"
            ]
          },
          "metadata": {},
          "execution_count": 41
        }
      ]
    },
    {
      "cell_type": "markdown",
      "source": [
        "## Skipgrams\n"
      ],
      "metadata": {
        "id": "kHu1qZ-a9n8u"
      }
    },
    {
      "cell_type": "code",
      "source": [
        "from keras.preprocessing.sequence import make_sampling_table, skipgrams\n",
        "from scipy.sparse import lil_matrix\n",
        "from sklearn.neighbors import NearestNeighbors\n",
        "\n",
        "def genWordWordMatrix(seqs, voc_size=N, win_size=5):\n",
        "\n",
        "  # Generamos los skipgrams\n",
        "  pairs, _= skipgrams(sequence=list(seqs), vocabulary_size=voc_size+1,\n",
        "                            window_size=win_size, negative_samples=0,\n",
        "                            sampling_table=make_sampling_table(voc_size+1,\n",
        "                                                               sampling_factor=1),\n",
        "                            shuffle=False)\n",
        "\n",
        "  # Contamos los skipgrams\n",
        "  pairs_u, counts = np.unique(pairs,return_counts=True, axis=0)\n",
        "\n",
        "  # Armamos las tablas con los skipgrams\n",
        "  word_word_matrix=lil_matrix((N, N))\n",
        "  for _, (pair,count) in enumerate(zip(pairs_u, counts)):\n",
        "    word_word_matrix[pair[0],pair[1]] += count\n",
        "\n",
        "  return word_word_matrix"
      ],
      "metadata": {
        "id": "HFx3Zd6G8hge"
      },
      "execution_count": null,
      "outputs": []
    },
    {
      "cell_type": "markdown",
      "source": [
        "## Exploracion similitud"
      ],
      "metadata": {
        "id": "WBKY0qlocSTA"
      }
    },
    {
      "cell_type": "code",
      "source": [
        "samples=[\"york\"]\n",
        "sizes=[1,3,5,10]\n",
        "\n",
        "for size in sizes:\n",
        "  word_word_matrix=genWordWordMatrix(all_seqs, voc_size=N, win_size=size)\n",
        "\n",
        "  red = TruncatedSVD(n_components=100)\n",
        "  TNG_cv_red = red.fit_transform(word_word_matrix.T)\n",
        "\n",
        "  neigh = NearestNeighbors(n_neighbors=20, metric=\"cosine\").fit(TNG_cv_red)\n",
        "\n",
        "  for word in samples:\n",
        "    idx_1 = tokenizer.word_index[word]\n",
        "    _, neig = neigh.kneighbors(TNG_cv_red[idx_1:idx_1+1])\n",
        "    print(\"Sample:\", word, \"- Skipgrams Size:\", size)\n",
        "    print([tokenizer.index_word[n] for n in neig[0]])"
      ],
      "metadata": {
        "id": "W4gK5aUi2zyu",
        "colab": {
          "base_uri": "https://localhost:8080/"
        },
        "outputId": "2429eded-4f47-4107-8f92-8a9f1f94797e"
      },
      "execution_count": null,
      "outputs": [
        {
          "output_type": "stream",
          "name": "stdout",
          "text": [
            "Sample: york - Skipgrams Size: 1\n",
            "['york', 'jersey', 'zealand', 'haven', 'testament', 'brand', 'mexico', 'hobgoblin', 'england', 'luck', 'abiding', 'nw', 'sweet', 'enforcement', 'intro', 'avenue', 'vg', 'publishers', 'ni', 'telecommunications']\n",
            "Sample: york - Skipgrams Size: 3\n",
            "['york', 'zealand', 'england', 'london', 'testament', 'usa', 'mexico', '1992', 'san', 'cities', 'washington', 'francisco', '1982', '1989', 'city', 'western', 'english', 'florida', 'versus', 'december']\n",
            "Sample: york - Skipgrams Size: 5\n",
            "['york', 'zealand', 'washington', 'florida', '1989', 'san', 'london', 'england', 'francisco', '1982', 'mexico', '1992', '1988', 'december', '1987', '1991', 'canada', '1986', 'texas', 'usa']\n",
            "Sample: york - Skipgrams Size: 10\n",
            "['york', 'washington', 'florida', 'san', 'francisco', '1987', '1989', 'zealand', 'texas', 'california', 'england', '1992', '1988', 'canada', 'bay', '1990', 'seattle', '1991', '1982', 'division']\n"
          ]
        }
      ]
    },
    {
      "cell_type": "markdown",
      "source": [
        "## Conclusiones\n",
        "\n",
        "A medida que se aumenta el tamaño de la ventana el costo computacional crece rápidamente pero se generan mejores resultados en la similitud entre palabras. Por ejemplo, con un tamaño de ventana 1 vemos como las palabras cercanas a \"york\" son variadas, con tamaño de ventana 3 ya son en su mayoría países y con tamaño de ventana 10 son ciudades de Estados Unidos o años de importancia para la ciudad."
      ],
      "metadata": {
        "id": "5tETdZnIzJ_V"
      }
    },
    {
      "cell_type": "markdown",
      "source": [
        "# Ejercicio 6\n"
      ],
      "metadata": {
        "id": "-A1Txf1Y20F1"
      }
    },
    {
      "cell_type": "markdown",
      "source": [
        "Con la matriz término-término construir la matriz de PPMI y factorizarla aplicando truncated SVD. Explorar resultados de similaridad término a término.\n"
      ],
      "metadata": {
        "id": "UGsc4MM_3ADh"
      }
    },
    {
      "cell_type": "code",
      "source": [
        "from keras.preprocessing.sequence import make_sampling_table, skipgrams\n",
        "from keras.preprocessing.text import Tokenizer\n",
        "from sklearn.neighbors import NearestNeighbors"
      ],
      "metadata": {
        "id": "T1hW0MiXfONm"
      },
      "execution_count": null,
      "outputs": []
    },
    {
      "cell_type": "code",
      "source": [
        "N=10000\n",
        "tokenizer = Tokenizer(num_words=N)    # Instanciamos el tokenizador\n",
        "tokenizer.fit_on_texts(newsgroups.data) # Ajustamos el tokenizador\n",
        "\n",
        "# Pasamos cada texto a sus respectivos tokens\n",
        "seqs=tokenizer.texts_to_sequences(newsgroups.data)\n",
        "all_seqs=np.hstack(seqs).astype(int)\n",
        "\n",
        "word_word_matrix=genWordWordMatrix(all_seqs, voc_size=N, win_size=5)"
      ],
      "metadata": {
        "id": "YW42WAskl8nK"
      },
      "execution_count": null,
      "outputs": []
    },
    {
      "cell_type": "markdown",
      "source": [
        "## Calculo matriz PPMI"
      ],
      "metadata": {
        "id": "x8EBgh_dNH6G"
      }
    },
    {
      "cell_type": "code",
      "source": [
        "p_x = word_word_matrix[1:,1:].sum(axis=1)/word_word_matrix[1:,1:].sum()\n",
        "p_xy = word_word_matrix[1:,1:]/word_word_matrix[1:,1:].sum()\n",
        "\n",
        "cociente =np.array(p_xy/np.dot(p_x, p_x.T))\n",
        "PMI = np.log(cociente*(cociente>1)+1e-8)\n",
        "PPMI=PMI*(PMI>0)+1e-8"
      ],
      "metadata": {
        "id": "e9XECoVrmZoz"
      },
      "execution_count": null,
      "outputs": []
    },
    {
      "cell_type": "code",
      "source": [
        "PPMI"
      ],
      "metadata": {
        "colab": {
          "base_uri": "https://localhost:8080/"
        },
        "id": "zGk8BBRLyF_X",
        "outputId": "2e7a3131-b03b-4591-d51f-af59a3358248"
      },
      "execution_count": null,
      "outputs": [
        {
          "output_type": "execute_result",
          "data": {
            "text/plain": [
              "array([[5.94395233e-02, 1.00000000e-08, 1.33769465e-01, ...,\n",
              "        1.00000000e-08, 1.00000000e-08, 1.00000000e-08],\n",
              "       [1.00000000e-08, 3.33971962e+00, 1.00000000e-08, ...,\n",
              "        6.71137658e-01, 4.19823231e-01, 2.65672552e-01],\n",
              "       [1.37008253e-01, 1.00000000e-08, 1.00000000e-08, ...,\n",
              "        1.00000000e-08, 1.00000000e-08, 1.00000000e-08],\n",
              "       ...,\n",
              "       [1.00000000e-08, 6.71137658e-01, 1.00000000e-08, ...,\n",
              "        1.00000000e-08, 1.00000000e-08, 1.00000000e-08],\n",
              "       [1.00000000e-08, 4.19823231e-01, 1.00000000e-08, ...,\n",
              "        1.00000000e-08, 1.00000000e-08, 1.00000000e-08],\n",
              "       [1.00000000e-08, 2.65672552e-01, 1.00000000e-08, ...,\n",
              "        1.00000000e-08, 1.00000000e-08, 1.00000000e-08]])"
            ]
          },
          "metadata": {},
          "execution_count": 66
        }
      ]
    },
    {
      "cell_type": "markdown",
      "source": [
        "## Exploracion similitud"
      ],
      "metadata": {
        "id": "Fl6HAYkct9O7"
      }
    },
    {
      "cell_type": "code",
      "source": [
        "word_samples=[\"york\", \"science\", \"church\", \"women\", \"nasa\"]\n",
        "\n",
        "PPMI_red = TruncatedSVD(n_components=300).fit_transform(PPMI)\n",
        "\n",
        "neigh = NearestNeighbors(n_neighbors=20, metric=\"cosine\").fit(PPMI_red)\n",
        "\n",
        "for word in word_samples:\n",
        "  idx = tokenizer.word_index[word]-1\n",
        "  _, neig = neigh.kneighbors(PPMI_red[idx:idx+1])\n",
        "  print(\"Sample:\", word)\n",
        "  print([tokenizer.index_word[n+1] for n in neig[0]])"
      ],
      "metadata": {
        "colab": {
          "base_uri": "https://localhost:8080/"
        },
        "id": "vbNeErRTM1eZ",
        "outputId": "ca2a8b48-749d-4b20-bda9-0db3231847e1"
      },
      "execution_count": null,
      "outputs": [
        {
          "output_type": "stream",
          "name": "stdout",
          "text": [
            "Sample: york\n",
            "['york', 'washington', 'new', 'ny', 'boston', 'avenue', 'city', 'chicago', 'milwaukee', 'philadelphia', 'pennsylvania', '212', 'pittsburgh', 'rangers', 'minnesota', 'press', 'baltimore', 'street', 'montreal', 'oakland']\n",
            "Sample: science\n",
            "['science', 'scientific', 'research', 'computer', 'institute', 'philosophy', 'theory', 'project', 'sciences', 'space', 'university', 'technology', 'of', 'observations', 'psychology', 'national', 'understanding', 'empirical', 'studies', 'study']\n",
            "Sample: church\n",
            "['church', 'catholic', 'orthodox', 'christian', 'churches', 'doctrine', 'lutheran', 'coptic', 'pope', 'theology', 'catholics', 'worship', 'bishops', 'faith', 'christ', 'heresy', 'priest', 'rome', 'bishop', 'schism']\n",
            "Sample: women\n",
            "['women', 'children', 'men', 'were', 'people', 'burned', 'woman', 'elderly', 'raped', 'massacred', 'who', 'pregnant', 'killed', 'innocent', 'they', 'young', 'soldiers', 'girls', 'babies', 'her']\n",
            "Sample: nasa\n",
            "['nasa', 'jpl', 'gov', 'ames', 'jsc', 'space', 'larc', 'shuttle', 'gsfc', 'arc', 'shafer', 'dryden', \"nasa's\", 'planetary', 'flight', 'goddard', 'center', 'propulsion', 'research', 'mission']\n"
          ]
        }
      ]
    },
    {
      "cell_type": "markdown",
      "source": [
        "## Conclusiones\n",
        "Las palabras asociadas a cada samples efectivamente se corresponden.\n"
      ],
      "metadata": {
        "id": "GJM64G-D0ghI"
      }
    }
  ]
}